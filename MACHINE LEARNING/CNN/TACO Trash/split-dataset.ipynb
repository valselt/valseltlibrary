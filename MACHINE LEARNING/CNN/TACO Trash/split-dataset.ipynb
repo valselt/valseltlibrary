{
 "cells": [
  {
   "cell_type": "code",
   "execution_count": 1,
   "metadata": {},
   "outputs": [],
   "source": [
    "import pandas as pd\n",
    "from sklearn.model_selection import train_test_split"
   ]
  },
  {
   "cell_type": "code",
   "execution_count": 9,
   "metadata": {},
   "outputs": [],
   "source": [
    "file_path = 'dataset/meta_df_updated.csv'\n",
    "meta_df = pd.read_csv(file_path)"
   ]
  },
  {
   "cell_type": "code",
   "execution_count": 10,
   "metadata": {},
   "outputs": [],
   "source": [
    "#Train/Test Split in % (0-100)\n",
    "\n",
    "train_percentage = 80\n",
    "test_percentage = 20"
   ]
  },
  {
   "cell_type": "code",
   "execution_count": 11,
   "metadata": {},
   "outputs": [],
   "source": [
    "test = test_percentage / 100\n",
    "train = train_percentage / 100\n",
    "\n",
    "train_df, test_df = train_test_split(meta_df, test_size=test, random_state=42)"
   ]
  },
  {
   "cell_type": "code",
   "execution_count": 12,
   "metadata": {},
   "outputs": [],
   "source": [
    "train_file_path = 'dataset/train_meta_df.csv'\n",
    "test_file_path = 'dataset/test_meta_df.csv'\n",
    "\n",
    "train_df.to_csv(train_file_path, index=False)\n",
    "test_df.to_csv(test_file_path, index=False)"
   ]
  }
 ],
 "metadata": {
  "kernelspec": {
   "display_name": "py39",
   "language": "python",
   "name": "python3"
  },
  "language_info": {
   "codemirror_mode": {
    "name": "ipython",
    "version": 3
   },
   "file_extension": ".py",
   "mimetype": "text/x-python",
   "name": "python",
   "nbconvert_exporter": "python",
   "pygments_lexer": "ipython3",
   "version": "3.9.20"
  }
 },
 "nbformat": 4,
 "nbformat_minor": 2
}
