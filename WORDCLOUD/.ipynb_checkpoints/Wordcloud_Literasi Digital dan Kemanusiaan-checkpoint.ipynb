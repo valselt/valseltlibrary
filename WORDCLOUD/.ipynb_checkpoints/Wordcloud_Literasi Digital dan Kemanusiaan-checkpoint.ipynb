{
 "cells": [
  {
   "cell_type": "code",
   "execution_count": 1,
   "metadata": {},
   "outputs": [],
   "source": [
    "import pandas as pd\n",
    "import matplotlib as plt"
   ]
  },
  {
   "cell_type": "code",
   "execution_count": 2,
   "metadata": {},
   "outputs": [],
   "source": [
    "df = pd.read_csv('youtube_videos.csv')"
   ]
  },
  {
   "cell_type": "code",
   "execution_count": 3,
   "metadata": {},
   "outputs": [
    {
     "name": "stdout",
     "output_type": "stream",
     "text": [
      "      Video ID                                              Title  \\\n",
      "0  RJf93zoMCLc                         Saya Juga Tidak Dicalonkan   \n",
      "1  gcvOpSXFtSE  \"Saya Dikira Mau Stroke\" - Basuki Tjahaja Purnama   \n",
      "2  UmS07n8DS98                             Apa sih Tugas Pejabat?   \n",
      "3  AsOCmxsFRa0                               Ahok Akhirnya Bicara   \n",
      "4  RZLbS0ISbTQ                          Indonesia Punya Banyak PR   \n",
      "\n",
      "                                         Description  \\\n",
      "0  Join this channel to get access to perks:\\nhtt...   \n",
      "1  Join this channel to get access to perks:\\nhtt...   \n",
      "2  Join this channel to get access to perks:\\nhtt...   \n",
      "3  Dalam episode ini, Malaka Podcast menghadirkan...   \n",
      "4  Join this channel to get access to perks:\\nhtt...   \n",
      "\n",
      "                                           URL          Published At  \\\n",
      "0  https://www.youtube.com/watch?v=RJf93zoMCLc  2024-10-24T10:20:28Z   \n",
      "1  https://www.youtube.com/watch?v=gcvOpSXFtSE  2024-10-23T13:29:03Z   \n",
      "2  https://www.youtube.com/watch?v=UmS07n8DS98  2024-10-23T09:21:54Z   \n",
      "3  https://www.youtube.com/watch?v=AsOCmxsFRa0  2024-10-23T07:50:47Z   \n",
      "4  https://www.youtube.com/watch?v=RZLbS0ISbTQ  2024-10-21T11:59:32Z   \n",
      "\n",
      "   View Count  \n",
      "0        7206  \n",
      "1        8674  \n",
      "2       22148  \n",
      "3      477333  \n",
      "4        2584  \n"
     ]
    }
   ],
   "source": [
    "print(df.head())  "
   ]
  }
 ],
 "metadata": {
  "kernelspec": {
   "display_name": "Python 3",
   "language": "python",
   "name": "python3"
  },
  "language_info": {
   "codemirror_mode": {
    "name": "ipython",
    "version": 3
   },
   "file_extension": ".py",
   "mimetype": "text/x-python",
   "name": "python",
   "nbconvert_exporter": "python",
   "pygments_lexer": "ipython3",
   "version": "3.12.7"
  }
 },
 "nbformat": 4,
 "nbformat_minor": 2
}
