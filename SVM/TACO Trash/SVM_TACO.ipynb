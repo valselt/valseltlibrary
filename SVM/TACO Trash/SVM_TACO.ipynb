{
 "cells": [
  {
   "cell_type": "code",
   "execution_count": 1,
   "metadata": {},
   "outputs": [],
   "source": [
    "import pandas as pd\n",
    "import os\n",
    "import cv2\n",
    "import numpy as np\n",
    "import matplotlib.pyplot as plt\n",
    "from sklearn.model_selection import train_test_split\n",
    "from sklearn import svm\n",
    "from sklearn.metrics import classification_report, confusion_matrix\n",
    "from tensorflow.keras.preprocessing.image import ImageDataGenerator"
   ]
  },
  {
   "cell_type": "code",
   "execution_count": 2,
   "metadata": {},
   "outputs": [],
   "source": [
    "meta_df = pd.read_csv('./dataset/meta_df.csv')"
   ]
  },
  {
   "cell_type": "markdown",
   "metadata": {},
   "source": [
    "Link Dataset : [Kaggle](https://www.kaggle.com/datasets/kneroma/tacotrashdataset)"
   ]
  },
  {
   "cell_type": "code",
   "execution_count": 3,
   "metadata": {},
   "outputs": [],
   "source": [
    "X = []\n",
    "y = []"
   ]
  },
  {
   "cell_type": "code",
   "execution_count": 4,
   "metadata": {},
   "outputs": [],
   "source": [
    "for index, row in meta_df.iterrows():\n",
    "    img_path = os.path.join('./dataset/data', row['img_file'])\n",
    "    \n",
    "    # Membaca gambar\n",
    "    img = cv2.imread(img_path)\n",
    "    if img is not None:\n",
    "        img = cv2.resize(img, (64, 64))\n",
    "        img = img.flatten()\n",
    "        \n",
    "        X.append(img)\n",
    "        y.append(row['cat_name'])"
   ]
  },
  {
   "cell_type": "code",
   "execution_count": 5,
   "metadata": {},
   "outputs": [],
   "source": [
    "X = np.array(X)\n",
    "y = np.array(y)"
   ]
  },
  {
   "cell_type": "code",
   "execution_count": 6,
   "metadata": {},
   "outputs": [],
   "source": [
    "X_train, X_test, y_train, y_test = train_test_split(X, y, test_size=0.2, random_state=42)\n"
   ]
  },
  {
   "cell_type": "code",
   "execution_count": 7,
   "metadata": {},
   "outputs": [],
   "source": [
    "datagen = ImageDataGenerator(\n",
    "    rotation_range=40,\n",
    "    width_shift_range=0.2,\n",
    "    height_shift_range=0.2,\n",
    "    shear_range=0.2,\n",
    "    zoom_range=0.2,\n",
    "    horizontal_flip=True,\n",
    "    fill_mode='nearest'\n",
    ")"
   ]
  },
  {
   "cell_type": "code",
   "execution_count": 8,
   "metadata": {},
   "outputs": [],
   "source": [
    "X_train = X_train.reshape(-1, 64, 64, 3)"
   ]
  },
  {
   "cell_type": "code",
   "execution_count": 9,
   "metadata": {},
   "outputs": [],
   "source": [
    "augmented_images = []\n",
    "augmented_labels = []\n",
    "\n",
    "for img, label in zip(X_train, y_train):\n",
    "    img = img.reshape((1, 64, 64, 3))  # Ubah kembali ke bentuk 4D\n",
    "    for batch in datagen.flow(img, batch_size=1):\n",
    "        augmented_images.append(batch[0])  # Menyimpan gambar augmentasi\n",
    "        augmented_labels.append(label)  # Menyimpan label yang sesuai\n",
    "        if len(augmented_images) >= 100:  # Batasi jumlah augmentasi, misalnya 100 gambar\n",
    "            break"
   ]
  },
  {
   "cell_type": "code",
   "execution_count": 10,
   "metadata": {},
   "outputs": [],
   "source": [
    "X_train_augmented = np.concatenate((X_train.reshape(-1, 64 * 64 * 3), np.array(augmented_images).reshape(-1, 64 * 64 * 3)), axis=0)\n",
    "y_train_augmented = np.concatenate((y_train, np.array(augmented_labels)), axis=0)"
   ]
  },
  {
   "cell_type": "code",
   "execution_count": 11,
   "metadata": {},
   "outputs": [],
   "source": [
    "model = svm.SVC(kernel='linear')"
   ]
  },
  {
   "cell_type": "code",
   "execution_count": null,
   "metadata": {},
   "outputs": [],
   "source": [
    "model.fit(X_train_augmented, y_train_augmented)"
   ]
  },
  {
   "cell_type": "code",
   "execution_count": 1,
   "metadata": {},
   "outputs": [
    {
     "ename": "NameError",
     "evalue": "name 'model' is not defined",
     "output_type": "error",
     "traceback": [
      "\u001b[1;31m---------------------------------------------------------------------------\u001b[0m",
      "\u001b[1;31mNameError\u001b[0m                                 Traceback (most recent call last)",
      "Cell \u001b[1;32mIn[1], line 1\u001b[0m\n\u001b[1;32m----> 1\u001b[0m y_pred \u001b[38;5;241m=\u001b[39m \u001b[43mmodel\u001b[49m\u001b[38;5;241m.\u001b[39mpredict(X_test)\n",
      "\u001b[1;31mNameError\u001b[0m: name 'model' is not defined"
     ]
    }
   ],
   "source": [
    "y_pred = model.predict(X_test)"
   ]
  },
  {
   "cell_type": "code",
   "execution_count": null,
   "metadata": {},
   "outputs": [],
   "source": [
    "\n",
    "for i in range(len(y_pred)):\n",
    "    print(f\"Prediksi: {y_pred[i]}, Sebenarnya: {y_test[i]}\")"
   ]
  },
  {
   "cell_type": "code",
   "execution_count": 11,
   "metadata": {},
   "outputs": [
    {
     "name": "stdout",
     "output_type": "stream",
     "text": [
      "Confusion Matrix:\n",
      "[[ 0  0  0 ...  0  1  0]\n",
      " [ 0  0  0 ...  0  3  0]\n",
      " [ 0  0  1 ...  0  0  0]\n",
      " ...\n",
      " [ 0  0  0 ...  0  0  0]\n",
      " [ 0  0  1 ...  0 41  0]\n",
      " [ 0  0  0 ...  0  0  0]]\n",
      "\n",
      "Classification Report:\n",
      "                           precision    recall  f1-score   support\n",
      "\n",
      "                  Aerosol       0.00      0.00      0.00         2\n",
      "   Aluminium blister pack       0.00      0.00      0.00         4\n",
      "           Aluminium foil       0.10      0.12      0.11         8\n",
      "                  Battery       0.00      0.00      0.00         1\n",
      "             Broken glass       0.93      0.83      0.88        30\n",
      "                Cigarette       0.43      0.72      0.54       123\n",
      "     Clear plastic bottle       0.07      0.10      0.08        51\n",
      "        Corrugated carton       0.62      0.40      0.48        20\n",
      "             Crisp packet       0.50      0.10      0.17        10\n",
      "Disposable food container       0.00      0.00      0.00         7\n",
      "   Disposable plastic cup       0.13      0.15      0.14        13\n",
      "                Drink can       0.34      0.25      0.29        55\n",
      "             Drink carton       0.00      0.00      0.00         8\n",
      "               Egg carton       0.00      0.00      0.00         1\n",
      "                 Foam cup       0.00      0.00      0.00         3\n",
      "      Foam food container       0.50      0.50      0.50         2\n",
      "                 Food Can       1.00      0.25      0.40         4\n",
      "               Food waste       0.00      0.00      0.00         1\n",
      "              Garbage bag       0.33      0.43      0.38         7\n",
      "             Glass bottle       0.35      0.22      0.27        27\n",
      "                Glass cup       0.00      0.00      0.00         1\n",
      "                Glass jar       0.00      0.00      0.00         1\n",
      "           Magazine paper       0.67      1.00      0.80         2\n",
      "              Meal carton       0.00      0.00      0.00         4\n",
      "         Metal bottle cap       0.19      0.16      0.17        19\n",
      "                Metal lid       1.00      0.25      0.40         4\n",
      "             Normal paper       0.00      0.00      0.00        10\n",
      "             Other carton       0.08      0.04      0.05        28\n",
      "            Other plastic       0.42      0.37      0.39        49\n",
      "     Other plastic bottle       0.50      0.08      0.14        12\n",
      "  Other plastic container       0.00      0.00      0.00         2\n",
      "    Other plastic wrapper       0.28      0.24      0.26        54\n",
      "                Paper bag       0.14      0.33      0.20         3\n",
      "                Paper cup       0.14      0.06      0.08        17\n",
      "       Plastic bottle cap       0.00      0.00      0.00        47\n",
      "             Plastic film       0.27      0.34      0.30        94\n",
      "          Plastic glooves       0.00      0.00      0.00         1\n",
      "              Plastic lid       0.00      0.00      0.00        12\n",
      "            Plastic straw       0.17      0.13      0.15        30\n",
      "         Plastic utensils       0.25      0.25      0.25         4\n",
      "        Polypropylene bag       0.00      0.00      0.00         2\n",
      "                  Pop tab       0.00      0.00      0.00        14\n",
      "           Rope & strings       0.00      0.00      0.00         7\n",
      "              Scrap metal       0.00      0.00      0.00         1\n",
      "                     Shoe       0.00      0.00      0.00         1\n",
      "   Single-use carrier bag       0.22      0.17      0.19        12\n",
      "           Six pack rings       0.00      0.00      0.00         2\n",
      "               Spread tub       0.00      0.00      0.00         1\n",
      "          Squeezable tube       0.00      0.00      0.00         4\n",
      "          Styrofoam piece       0.19      0.14      0.16        22\n",
      "                  Tissues       0.00      0.00      0.00         9\n",
      "              Toilet tube       0.00      0.00      0.00         1\n",
      "         Unlabeled litter       0.29      0.38      0.33       108\n",
      "           Wrapping paper       0.00      0.00      0.00         2\n",
      "\n",
      "                 accuracy                           0.29       957\n",
      "                macro avg       0.19      0.15      0.15       957\n",
      "             weighted avg       0.28      0.29      0.27       957\n",
      "\n"
     ]
    },
    {
     "name": "stderr",
     "output_type": "stream",
     "text": [
      "c:\\JACKIES\\Code\\Python\\Lib\\site-packages\\sklearn\\metrics\\_classification.py:1531: UndefinedMetricWarning: Precision is ill-defined and being set to 0.0 in labels with no predicted samples. Use `zero_division` parameter to control this behavior.\n",
      "  _warn_prf(average, modifier, f\"{metric.capitalize()} is\", len(result))\n",
      "c:\\JACKIES\\Code\\Python\\Lib\\site-packages\\sklearn\\metrics\\_classification.py:1531: UndefinedMetricWarning: Precision is ill-defined and being set to 0.0 in labels with no predicted samples. Use `zero_division` parameter to control this behavior.\n",
      "  _warn_prf(average, modifier, f\"{metric.capitalize()} is\", len(result))\n",
      "c:\\JACKIES\\Code\\Python\\Lib\\site-packages\\sklearn\\metrics\\_classification.py:1531: UndefinedMetricWarning: Precision is ill-defined and being set to 0.0 in labels with no predicted samples. Use `zero_division` parameter to control this behavior.\n",
      "  _warn_prf(average, modifier, f\"{metric.capitalize()} is\", len(result))\n"
     ]
    }
   ],
   "source": [
    "print(\"Confusion Matrix:\")\n",
    "print(confusion_matrix(y_test, y_pred))\n",
    "print(\"\\nClassification Report:\")\n",
    "print(classification_report(y_test, y_pred))"
   ]
  }
 ],
 "metadata": {
  "kernelspec": {
   "display_name": "Python 3",
   "language": "python",
   "name": "python3"
  },
  "language_info": {
   "codemirror_mode": {
    "name": "ipython",
    "version": 3
   },
   "file_extension": ".py",
   "mimetype": "text/x-python",
   "name": "python",
   "nbconvert_exporter": "python",
   "pygments_lexer": "ipython3",
   "version": "3.12.7"
  }
 },
 "nbformat": 4,
 "nbformat_minor": 2
}
